{
 "metadata": {
  "language_info": {
   "codemirror_mode": {
    "name": "ipython",
    "version": 3
   },
   "file_extension": ".py",
   "mimetype": "text/x-python",
   "name": "python",
   "nbconvert_exporter": "python",
   "pygments_lexer": "ipython3",
   "version": "3.7.9-final"
  },
  "orig_nbformat": 2,
  "kernelspec": {
   "name": "python3",
   "display_name": "Python 3",
   "language": "python"
  }
 },
 "nbformat": 4,
 "nbformat_minor": 2,
 "cells": [
  {
   "cell_type": "code",
   "execution_count": 1,
   "metadata": {},
   "outputs": [
    {
     "output_type": "display_data",
     "data": {
      "text/plain": "interactive(children=(IntSlider(value=1, description='degrees of freedom', layout=Layout(width='30%'), max=15,…",
      "application/vnd.jupyter.widget-view+json": {
       "version_major": 2,
       "version_minor": 0,
       "model_id": "1c2d18ba60ea4087b360053e5fd6247e"
      }
     },
     "metadata": {}
    }
   ],
   "source": [
    "import matplotlib.pyplot as plt\n",
    "import numpy as np\n",
    "import scipy.stats as stats\n",
    "import ipywidgets as widgets\n",
    "import matplotlib.patches as mpatches\n",
    "\n",
    "style = {'description_width': 'initial'}\n",
    "df_widget = widgets.IntSlider(min=1, max=15, value=1, description='degrees of freedom', layout=widgets.Layout(width='30%'), style=style)\n",
    "\n",
    "def update_k_range(*args):\n",
    "    k_widget.max = stats.chi2.ppf(0.999, df_widget.value)\n",
    "\n",
    "df_widget.observe(update_k_range, 'value')\n",
    "\n",
    "k_widget = widgets.FloatSlider(min=0, step=0.05, value=1, description='y', layout=widgets.Layout(width='30%'), style=style)\n",
    "\n",
    "k_widget.max = 12\n",
    "\n",
    "def plotchisquare(df, k):\n",
    "\n",
    "    value = 1 - stats.chi2.cdf(k, df)\n",
    "    x = np.linspace(0, stats.chi2.ppf(0.999, df_widget.value), 1000)\n",
    "    y = stats.chi2.pdf(x, df)\n",
    "    plt.plot(x, y, color='black', linewidth=0.75)\n",
    "    plt.fill_between(x, 0, y, x > k, color='#FFDA61')\n",
    "\n",
    "    Y = '$Y = '\n",
    "    if df < 6:\n",
    "        for n in range(df):\n",
    "            Y += 'Z^2_{%i}' %(n+1)\n",
    "            if n != df - 1:\n",
    "                Y += ' + '\n",
    "            else:\n",
    "                Y += '$'\n",
    "    else:\n",
    "        Y += 'Z^2_{1} + Z^2_{2} + \\cdots + Z^2_{%i} + Z^2_{%i}$' %(df-1, df)\n",
    "    if df == 1:\n",
    "        Y += '\\nwhere $Z_1 \\sim \\mathcal{N}(0, 1)$'\n",
    "    elif df == 2:\n",
    "        Y += '\\nwhere $Z_1$ and $Z_2$ i.i.d. and $ \\sim \\mathcal{N}(0, 1)$'\n",
    "    else:\n",
    "        Y += '\\nwhere $Z_1, \\cdots, Z_{%i}$ i.i.d. and $ \\sim \\mathcal{N}(0, 1)$' %(df)\n",
    "\n",
    "    plt.xlabel(Y)\n",
    "    plt.ylabel('probability density')\n",
    "\n",
    "    if df_widget.value == 1:\n",
    "        plt.title('Chi-square distribution with $%i$ degree of freedom' %(df_widget.value))\n",
    "    else:\n",
    "        plt.title('Chi-square distribution with $%i$ degrees of freedom' %(df_widget.value))\n",
    "    \n",
    "    patch = mpatches.Patch(color='#FFDA61', label='$P(Y \\geq %.2f) = \\mathbf{%.3f}$\\n(p-value)' %(k_widget.value, value))\n",
    "    plt.legend(handles=[patch])\n",
    "    \n",
    "    plt.show()\n",
    "\n",
    "widgets.interact(plotchisquare,df=df_widget, k=k_widget);"
   ]
  },
  {
   "cell_type": "code",
   "execution_count": null,
   "metadata": {},
   "outputs": [],
   "source": []
  }
 ]
}